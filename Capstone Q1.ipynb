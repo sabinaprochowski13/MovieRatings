{
 "cells": [
  {
   "cell_type": "code",
   "execution_count": 2,
   "id": "8dd4aba1",
   "metadata": {},
   "outputs": [],
   "source": [
    "import numpy as np\n",
    "import pandas as pd\n",
    "import matplotlib.pyplot as plt\n",
    "from scipy import stats\n",
    "from sklearn.decomposition import PCA"
   ]
  },
  {
   "cell_type": "code",
   "execution_count": 3,
   "id": "339497a2",
   "metadata": {},
   "outputs": [
    {
     "data": {
      "text/plain": [
       "(1030, 29)"
      ]
     },
     "execution_count": 3,
     "metadata": {},
     "output_type": "execute_result"
    }
   ],
   "source": [
    "data = pd.read_csv('movieReplicationSet-2.csv')\n",
    "names = data.columns[401:421].tolist() # sensation seeking\n",
    "names.extend(data.columns[465:474]) # movie experience\n",
    "clean_data = data.dropna(subset=names)[names] # dropping missing vals\n",
    "clean_data.shape"
   ]
  },
  {
   "cell_type": "code",
   "execution_count": 4,
   "id": "817d5e85",
   "metadata": {},
   "outputs": [
    {
     "data": {
      "text/html": [
       "<div>\n",
       "<style scoped>\n",
       "    .dataframe tbody tr th:only-of-type {\n",
       "        vertical-align: middle;\n",
       "    }\n",
       "\n",
       "    .dataframe tbody tr th {\n",
       "        vertical-align: top;\n",
       "    }\n",
       "\n",
       "    .dataframe thead th {\n",
       "        text-align: right;\n",
       "    }\n",
       "</style>\n",
       "<table border=\"1\" class=\"dataframe\">\n",
       "  <thead>\n",
       "    <tr style=\"text-align: right;\">\n",
       "      <th></th>\n",
       "      <th>I enjoy rollercoasters</th>\n",
       "      <th>Have you ever bungee-jumped?</th>\n",
       "      <th>I enjoy impulse shopping</th>\n",
       "      <th>I sometimes go out on weeknights even if I have work to do</th>\n",
       "      <th>I enjoy doing things without too much planning</th>\n",
       "      <th>Have you ever been rock climbing?</th>\n",
       "      <th>I enjoy being in large loud crowds like the Times Square Ball Drop on New Years Eve</th>\n",
       "      <th>I enjoy going to large music or dance festivals</th>\n",
       "      <th>I enjoy watching horror movies</th>\n",
       "      <th>No risk - No fun</th>\n",
       "      <th>...</th>\n",
       "      <th>Is talkative</th>\n",
       "      <th>I have trouble following the story of a movie</th>\n",
       "      <th>I have trouble remembering the story of a movie a couple of days after seeing it</th>\n",
       "      <th>When watching a movie I cheer or shout or talk or curse at the screen</th>\n",
       "      <th>When watching a movie I feel like the things on the screen are happening to me</th>\n",
       "      <th>As a movie unfolds I start to have problems keeping track of events that happened earlier</th>\n",
       "      <th>The emotions on the screen \"rub off\" on me - for instance if something sad is happening I get sad or if something frightening is happening I get scared</th>\n",
       "      <th>When watching a movie I get completely immersed in the alternative reality of the film</th>\n",
       "      <th>Movies change my position on social economic or political issues</th>\n",
       "      <th>When watching movies things get so intense that I have to stop watching</th>\n",
       "    </tr>\n",
       "  </thead>\n",
       "  <tbody>\n",
       "    <tr>\n",
       "      <th>0</th>\n",
       "      <td>5.0</td>\n",
       "      <td>2.0</td>\n",
       "      <td>5.0</td>\n",
       "      <td>1.0</td>\n",
       "      <td>2.0</td>\n",
       "      <td>3.0</td>\n",
       "      <td>1.0</td>\n",
       "      <td>4.0</td>\n",
       "      <td>1.0</td>\n",
       "      <td>3.0</td>\n",
       "      <td>...</td>\n",
       "      <td>1.0</td>\n",
       "      <td>4.0</td>\n",
       "      <td>1.0</td>\n",
       "      <td>1.0</td>\n",
       "      <td>6.0</td>\n",
       "      <td>2.0</td>\n",
       "      <td>5.0</td>\n",
       "      <td>5.0</td>\n",
       "      <td>5.0</td>\n",
       "      <td>1.0</td>\n",
       "    </tr>\n",
       "    <tr>\n",
       "      <th>1</th>\n",
       "      <td>5.0</td>\n",
       "      <td>2.0</td>\n",
       "      <td>4.0</td>\n",
       "      <td>2.0</td>\n",
       "      <td>1.0</td>\n",
       "      <td>1.0</td>\n",
       "      <td>2.0</td>\n",
       "      <td>4.0</td>\n",
       "      <td>1.0</td>\n",
       "      <td>3.0</td>\n",
       "      <td>...</td>\n",
       "      <td>2.0</td>\n",
       "      <td>3.0</td>\n",
       "      <td>1.0</td>\n",
       "      <td>3.0</td>\n",
       "      <td>1.0</td>\n",
       "      <td>1.0</td>\n",
       "      <td>6.0</td>\n",
       "      <td>5.0</td>\n",
       "      <td>3.0</td>\n",
       "      <td>2.0</td>\n",
       "    </tr>\n",
       "    <tr>\n",
       "      <th>2</th>\n",
       "      <td>4.0</td>\n",
       "      <td>1.0</td>\n",
       "      <td>2.0</td>\n",
       "      <td>2.0</td>\n",
       "      <td>2.0</td>\n",
       "      <td>1.0</td>\n",
       "      <td>3.0</td>\n",
       "      <td>4.0</td>\n",
       "      <td>1.0</td>\n",
       "      <td>3.0</td>\n",
       "      <td>...</td>\n",
       "      <td>4.0</td>\n",
       "      <td>3.0</td>\n",
       "      <td>1.0</td>\n",
       "      <td>5.0</td>\n",
       "      <td>4.0</td>\n",
       "      <td>3.0</td>\n",
       "      <td>5.0</td>\n",
       "      <td>5.0</td>\n",
       "      <td>4.0</td>\n",
       "      <td>4.0</td>\n",
       "    </tr>\n",
       "    <tr>\n",
       "      <th>3</th>\n",
       "      <td>5.0</td>\n",
       "      <td>2.0</td>\n",
       "      <td>5.0</td>\n",
       "      <td>4.0</td>\n",
       "      <td>2.0</td>\n",
       "      <td>4.0</td>\n",
       "      <td>4.0</td>\n",
       "      <td>5.0</td>\n",
       "      <td>4.0</td>\n",
       "      <td>1.0</td>\n",
       "      <td>...</td>\n",
       "      <td>5.0</td>\n",
       "      <td>1.0</td>\n",
       "      <td>1.0</td>\n",
       "      <td>3.0</td>\n",
       "      <td>1.0</td>\n",
       "      <td>1.0</td>\n",
       "      <td>4.0</td>\n",
       "      <td>5.0</td>\n",
       "      <td>3.0</td>\n",
       "      <td>1.0</td>\n",
       "    </tr>\n",
       "    <tr>\n",
       "      <th>4</th>\n",
       "      <td>1.0</td>\n",
       "      <td>3.0</td>\n",
       "      <td>3.0</td>\n",
       "      <td>2.0</td>\n",
       "      <td>3.0</td>\n",
       "      <td>3.0</td>\n",
       "      <td>1.0</td>\n",
       "      <td>3.0</td>\n",
       "      <td>1.0</td>\n",
       "      <td>4.0</td>\n",
       "      <td>...</td>\n",
       "      <td>4.0</td>\n",
       "      <td>3.0</td>\n",
       "      <td>4.0</td>\n",
       "      <td>2.0</td>\n",
       "      <td>3.0</td>\n",
       "      <td>2.0</td>\n",
       "      <td>5.0</td>\n",
       "      <td>6.0</td>\n",
       "      <td>4.0</td>\n",
       "      <td>4.0</td>\n",
       "    </tr>\n",
       "    <tr>\n",
       "      <th>...</th>\n",
       "      <td>...</td>\n",
       "      <td>...</td>\n",
       "      <td>...</td>\n",
       "      <td>...</td>\n",
       "      <td>...</td>\n",
       "      <td>...</td>\n",
       "      <td>...</td>\n",
       "      <td>...</td>\n",
       "      <td>...</td>\n",
       "      <td>...</td>\n",
       "      <td>...</td>\n",
       "      <td>...</td>\n",
       "      <td>...</td>\n",
       "      <td>...</td>\n",
       "      <td>...</td>\n",
       "      <td>...</td>\n",
       "      <td>...</td>\n",
       "      <td>...</td>\n",
       "      <td>...</td>\n",
       "      <td>...</td>\n",
       "      <td>...</td>\n",
       "    </tr>\n",
       "    <tr>\n",
       "      <th>1092</th>\n",
       "      <td>4.0</td>\n",
       "      <td>2.0</td>\n",
       "      <td>5.0</td>\n",
       "      <td>2.0</td>\n",
       "      <td>1.0</td>\n",
       "      <td>3.0</td>\n",
       "      <td>2.0</td>\n",
       "      <td>5.0</td>\n",
       "      <td>1.0</td>\n",
       "      <td>3.0</td>\n",
       "      <td>...</td>\n",
       "      <td>4.0</td>\n",
       "      <td>4.0</td>\n",
       "      <td>3.0</td>\n",
       "      <td>3.0</td>\n",
       "      <td>4.0</td>\n",
       "      <td>3.0</td>\n",
       "      <td>5.0</td>\n",
       "      <td>5.0</td>\n",
       "      <td>4.0</td>\n",
       "      <td>4.0</td>\n",
       "    </tr>\n",
       "    <tr>\n",
       "      <th>1093</th>\n",
       "      <td>5.0</td>\n",
       "      <td>2.0</td>\n",
       "      <td>5.0</td>\n",
       "      <td>4.0</td>\n",
       "      <td>1.0</td>\n",
       "      <td>4.0</td>\n",
       "      <td>4.0</td>\n",
       "      <td>5.0</td>\n",
       "      <td>5.0</td>\n",
       "      <td>4.0</td>\n",
       "      <td>...</td>\n",
       "      <td>5.0</td>\n",
       "      <td>4.0</td>\n",
       "      <td>5.0</td>\n",
       "      <td>5.0</td>\n",
       "      <td>3.0</td>\n",
       "      <td>5.0</td>\n",
       "      <td>5.0</td>\n",
       "      <td>5.0</td>\n",
       "      <td>6.0</td>\n",
       "      <td>5.0</td>\n",
       "    </tr>\n",
       "    <tr>\n",
       "      <th>1094</th>\n",
       "      <td>5.0</td>\n",
       "      <td>2.0</td>\n",
       "      <td>2.0</td>\n",
       "      <td>3.0</td>\n",
       "      <td>1.0</td>\n",
       "      <td>4.0</td>\n",
       "      <td>1.0</td>\n",
       "      <td>4.0</td>\n",
       "      <td>1.0</td>\n",
       "      <td>2.0</td>\n",
       "      <td>...</td>\n",
       "      <td>4.0</td>\n",
       "      <td>2.0</td>\n",
       "      <td>3.0</td>\n",
       "      <td>6.0</td>\n",
       "      <td>3.0</td>\n",
       "      <td>1.0</td>\n",
       "      <td>6.0</td>\n",
       "      <td>6.0</td>\n",
       "      <td>4.0</td>\n",
       "      <td>2.0</td>\n",
       "    </tr>\n",
       "    <tr>\n",
       "      <th>1095</th>\n",
       "      <td>4.0</td>\n",
       "      <td>2.0</td>\n",
       "      <td>5.0</td>\n",
       "      <td>2.0</td>\n",
       "      <td>5.0</td>\n",
       "      <td>1.0</td>\n",
       "      <td>2.0</td>\n",
       "      <td>1.0</td>\n",
       "      <td>2.0</td>\n",
       "      <td>2.0</td>\n",
       "      <td>...</td>\n",
       "      <td>4.0</td>\n",
       "      <td>5.0</td>\n",
       "      <td>3.0</td>\n",
       "      <td>1.0</td>\n",
       "      <td>1.0</td>\n",
       "      <td>1.0</td>\n",
       "      <td>4.0</td>\n",
       "      <td>3.0</td>\n",
       "      <td>3.0</td>\n",
       "      <td>1.0</td>\n",
       "    </tr>\n",
       "    <tr>\n",
       "      <th>1096</th>\n",
       "      <td>5.0</td>\n",
       "      <td>1.0</td>\n",
       "      <td>5.0</td>\n",
       "      <td>4.0</td>\n",
       "      <td>2.0</td>\n",
       "      <td>4.0</td>\n",
       "      <td>2.0</td>\n",
       "      <td>5.0</td>\n",
       "      <td>2.0</td>\n",
       "      <td>1.0</td>\n",
       "      <td>...</td>\n",
       "      <td>5.0</td>\n",
       "      <td>3.0</td>\n",
       "      <td>4.0</td>\n",
       "      <td>3.0</td>\n",
       "      <td>4.0</td>\n",
       "      <td>1.0</td>\n",
       "      <td>4.0</td>\n",
       "      <td>4.0</td>\n",
       "      <td>4.0</td>\n",
       "      <td>1.0</td>\n",
       "    </tr>\n",
       "  </tbody>\n",
       "</table>\n",
       "<p>1030 rows × 29 columns</p>\n",
       "</div>"
      ],
      "text/plain": [
       "      I enjoy rollercoasters   Have you ever bungee-jumped?  \\\n",
       "0                         5.0                           2.0   \n",
       "1                         5.0                           2.0   \n",
       "2                         4.0                           1.0   \n",
       "3                         5.0                           2.0   \n",
       "4                         1.0                           3.0   \n",
       "...                       ...                           ...   \n",
       "1092                      4.0                           2.0   \n",
       "1093                      5.0                           2.0   \n",
       "1094                      5.0                           2.0   \n",
       "1095                      4.0                           2.0   \n",
       "1096                      5.0                           1.0   \n",
       "\n",
       "      I enjoy impulse shopping  \\\n",
       "0                          5.0   \n",
       "1                          4.0   \n",
       "2                          2.0   \n",
       "3                          5.0   \n",
       "4                          3.0   \n",
       "...                        ...   \n",
       "1092                       5.0   \n",
       "1093                       5.0   \n",
       "1094                       2.0   \n",
       "1095                       5.0   \n",
       "1096                       5.0   \n",
       "\n",
       "      I sometimes go out on weeknights even if I have work to do  \\\n",
       "0                                                   1.0            \n",
       "1                                                   2.0            \n",
       "2                                                   2.0            \n",
       "3                                                   4.0            \n",
       "4                                                   2.0            \n",
       "...                                                 ...            \n",
       "1092                                                2.0            \n",
       "1093                                                4.0            \n",
       "1094                                                3.0            \n",
       "1095                                                2.0            \n",
       "1096                                                4.0            \n",
       "\n",
       "      I enjoy doing things without too much planning   \\\n",
       "0                                                 2.0   \n",
       "1                                                 1.0   \n",
       "2                                                 2.0   \n",
       "3                                                 2.0   \n",
       "4                                                 3.0   \n",
       "...                                               ...   \n",
       "1092                                              1.0   \n",
       "1093                                              1.0   \n",
       "1094                                              1.0   \n",
       "1095                                              5.0   \n",
       "1096                                              2.0   \n",
       "\n",
       "      Have you ever been rock climbing?  \\\n",
       "0                                   3.0   \n",
       "1                                   1.0   \n",
       "2                                   1.0   \n",
       "3                                   4.0   \n",
       "4                                   3.0   \n",
       "...                                 ...   \n",
       "1092                                3.0   \n",
       "1093                                4.0   \n",
       "1094                                4.0   \n",
       "1095                                1.0   \n",
       "1096                                4.0   \n",
       "\n",
       "      I enjoy being in large loud crowds like the Times Square Ball Drop on New Years Eve  \\\n",
       "0                                                   1.0                                     \n",
       "1                                                   2.0                                     \n",
       "2                                                   3.0                                     \n",
       "3                                                   4.0                                     \n",
       "4                                                   1.0                                     \n",
       "...                                                 ...                                     \n",
       "1092                                                2.0                                     \n",
       "1093                                                4.0                                     \n",
       "1094                                                1.0                                     \n",
       "1095                                                2.0                                     \n",
       "1096                                                2.0                                     \n",
       "\n",
       "      I enjoy going to large music or dance festivals   \\\n",
       "0                                                  4.0   \n",
       "1                                                  4.0   \n",
       "2                                                  4.0   \n",
       "3                                                  5.0   \n",
       "4                                                  3.0   \n",
       "...                                                ...   \n",
       "1092                                               5.0   \n",
       "1093                                               5.0   \n",
       "1094                                               4.0   \n",
       "1095                                               1.0   \n",
       "1096                                               5.0   \n",
       "\n",
       "      I enjoy watching horror movies  No risk - No fun  ...  Is talkative  \\\n",
       "0                                1.0               3.0  ...           1.0   \n",
       "1                                1.0               3.0  ...           2.0   \n",
       "2                                1.0               3.0  ...           4.0   \n",
       "3                                4.0               1.0  ...           5.0   \n",
       "4                                1.0               4.0  ...           4.0   \n",
       "...                              ...               ...  ...           ...   \n",
       "1092                             1.0               3.0  ...           4.0   \n",
       "1093                             5.0               4.0  ...           5.0   \n",
       "1094                             1.0               2.0  ...           4.0   \n",
       "1095                             2.0               2.0  ...           4.0   \n",
       "1096                             2.0               1.0  ...           5.0   \n",
       "\n",
       "      I have trouble following the story of a movie  \\\n",
       "0                                               4.0   \n",
       "1                                               3.0   \n",
       "2                                               3.0   \n",
       "3                                               1.0   \n",
       "4                                               3.0   \n",
       "...                                             ...   \n",
       "1092                                            4.0   \n",
       "1093                                            4.0   \n",
       "1094                                            2.0   \n",
       "1095                                            5.0   \n",
       "1096                                            3.0   \n",
       "\n",
       "      I have trouble remembering the story of a movie a couple of days after seeing it  \\\n",
       "0                                                   1.0                                  \n",
       "1                                                   1.0                                  \n",
       "2                                                   1.0                                  \n",
       "3                                                   1.0                                  \n",
       "4                                                   4.0                                  \n",
       "...                                                 ...                                  \n",
       "1092                                                3.0                                  \n",
       "1093                                                5.0                                  \n",
       "1094                                                3.0                                  \n",
       "1095                                                3.0                                  \n",
       "1096                                                4.0                                  \n",
       "\n",
       "      When watching a movie I cheer or shout or talk or curse at the screen  \\\n",
       "0                                                   1.0                       \n",
       "1                                                   3.0                       \n",
       "2                                                   5.0                       \n",
       "3                                                   3.0                       \n",
       "4                                                   2.0                       \n",
       "...                                                 ...                       \n",
       "1092                                                3.0                       \n",
       "1093                                                5.0                       \n",
       "1094                                                6.0                       \n",
       "1095                                                1.0                       \n",
       "1096                                                3.0                       \n",
       "\n",
       "      When watching a movie I feel like the things on the screen are happening to me  \\\n",
       "0                                                   6.0                                \n",
       "1                                                   1.0                                \n",
       "2                                                   4.0                                \n",
       "3                                                   1.0                                \n",
       "4                                                   3.0                                \n",
       "...                                                 ...                                \n",
       "1092                                                4.0                                \n",
       "1093                                                3.0                                \n",
       "1094                                                3.0                                \n",
       "1095                                                1.0                                \n",
       "1096                                                4.0                                \n",
       "\n",
       "      As a movie unfolds I start to have problems keeping track of events that happened earlier  \\\n",
       "0                                                   2.0                                           \n",
       "1                                                   1.0                                           \n",
       "2                                                   3.0                                           \n",
       "3                                                   1.0                                           \n",
       "4                                                   2.0                                           \n",
       "...                                                 ...                                           \n",
       "1092                                                3.0                                           \n",
       "1093                                                5.0                                           \n",
       "1094                                                1.0                                           \n",
       "1095                                                1.0                                           \n",
       "1096                                                1.0                                           \n",
       "\n",
       "      The emotions on the screen \"rub off\" on me - for instance if something sad is happening I get sad or if something frightening is happening I get scared  \\\n",
       "0                                                   5.0                                                                                                         \n",
       "1                                                   6.0                                                                                                         \n",
       "2                                                   5.0                                                                                                         \n",
       "3                                                   4.0                                                                                                         \n",
       "4                                                   5.0                                                                                                         \n",
       "...                                                 ...                                                                                                         \n",
       "1092                                                5.0                                                                                                         \n",
       "1093                                                5.0                                                                                                         \n",
       "1094                                                6.0                                                                                                         \n",
       "1095                                                4.0                                                                                                         \n",
       "1096                                                4.0                                                                                                         \n",
       "\n",
       "      When watching a movie I get completely immersed in the alternative reality of the film  \\\n",
       "0                                                   5.0                                        \n",
       "1                                                   5.0                                        \n",
       "2                                                   5.0                                        \n",
       "3                                                   5.0                                        \n",
       "4                                                   6.0                                        \n",
       "...                                                 ...                                        \n",
       "1092                                                5.0                                        \n",
       "1093                                                5.0                                        \n",
       "1094                                                6.0                                        \n",
       "1095                                                3.0                                        \n",
       "1096                                                4.0                                        \n",
       "\n",
       "      Movies change my position on social economic or political issues  \\\n",
       "0                                                   5.0                  \n",
       "1                                                   3.0                  \n",
       "2                                                   4.0                  \n",
       "3                                                   3.0                  \n",
       "4                                                   4.0                  \n",
       "...                                                 ...                  \n",
       "1092                                                4.0                  \n",
       "1093                                                6.0                  \n",
       "1094                                                4.0                  \n",
       "1095                                                3.0                  \n",
       "1096                                                4.0                  \n",
       "\n",
       "      When watching movies things get so intense that I have to stop watching  \n",
       "0                                                   1.0                        \n",
       "1                                                   2.0                        \n",
       "2                                                   4.0                        \n",
       "3                                                   1.0                        \n",
       "4                                                   4.0                        \n",
       "...                                                 ...                        \n",
       "1092                                                4.0                        \n",
       "1093                                                5.0                        \n",
       "1094                                                2.0                        \n",
       "1095                                                1.0                        \n",
       "1096                                                1.0                        \n",
       "\n",
       "[1030 rows x 29 columns]"
      ]
     },
     "execution_count": 4,
     "metadata": {},
     "output_type": "execute_result"
    }
   ],
   "source": [
    "clean_data # combined data of sensation seeking & movie experience"
   ]
  },
  {
   "cell_type": "code",
   "execution_count": 5,
   "id": "6da5c25c",
   "metadata": {},
   "outputs": [],
   "source": [
    "sensation = clean_data.iloc[:,0:19] # extract sensation data"
   ]
  },
  {
   "cell_type": "code",
   "execution_count": 7,
   "id": "3a4fc110",
   "metadata": {},
   "outputs": [
    {
     "data": {
      "text/plain": [
       "Index(['I enjoy rollercoasters ', 'Have you ever bungee-jumped?',\n",
       "       'I enjoy impulse shopping',\n",
       "       'I sometimes go out on weeknights even if I have work to do',\n",
       "       'I enjoy doing things without too much planning ',\n",
       "       'Have you ever been rock climbing?',\n",
       "       'I enjoy being in large loud crowds like the Times Square Ball Drop on New Years Eve',\n",
       "       'I enjoy going to large music or dance festivals ',\n",
       "       'I enjoy watching horror movies', 'No risk - No fun',\n",
       "       'I like to be surprised even if it startles or scares me',\n",
       "       'Have you ever parachuted?', 'I enjoy haunted houses',\n",
       "       'I had a sheltered upbringing', 'My life is very stressful',\n",
       "       'I value my life to be well ordered and predictable',\n",
       "       'Have you ridden a motorcycle?', 'Have you gambled or bet for money?',\n",
       "       'Have you ever been sky-diving?'],\n",
       "      dtype='object')"
      ]
     },
     "execution_count": 7,
     "metadata": {},
     "output_type": "execute_result"
    }
   ],
   "source": [
    "sensation.columns"
   ]
  },
  {
   "cell_type": "code",
   "execution_count": 8,
   "id": "ae257f1c",
   "metadata": {},
   "outputs": [
    {
     "name": "stdout",
     "output_type": "stream",
     "text": [
      "17.693\n",
      "9.368\n",
      "8.618\n",
      "6.804\n",
      "5.826\n",
      "5.494\n",
      "5.071\n",
      "4.974\n",
      "4.589\n",
      "4.372\n",
      "4.031\n",
      "3.921\n",
      "3.776\n",
      "3.236\n",
      "3.121\n",
      "2.938\n",
      "2.646\n",
      "1.814\n",
      "1.707\n"
     ]
    }
   ],
   "source": [
    "zscoredData = stats.zscore(sensation) # run PCA on sensation seeking\n",
    "pca = PCA().fit(zscoredData)\n",
    "eigVals = pca.explained_variance_\n",
    "loadings = pca.components_\n",
    "rotatedData = pca.fit_transform(zscoredData)\n",
    "covarExplained = eigVals/sum(eigVals)*100\n",
    "for ii in range(len(covarExplained)):\n",
    "    print(covarExplained[ii].round(3))"
   ]
  },
  {
   "cell_type": "code",
   "execution_count": 9,
   "id": "1b96f991",
   "metadata": {},
   "outputs": [
    {
     "data": {
      "image/png": "[encoded data removed]",
      "text/plain": [
       "<Figure size 432x288 with 1 Axes>"
      ]
     },
     "metadata": {
      "needs_background": "light"
     },
     "output_type": "display_data"
    }
   ],
   "source": [
    "numClasses = 19 # total sensation variables\n",
    "x = np.linspace(1,numClasses,numClasses)\n",
    "plt.bar(x, eigVals, color='gray')\n",
    "plt.plot([0,numClasses],[1,1],color='orange') # Orange Kaiser criterion line \n",
    "plt.xlabel('Principal component')\n",
    "plt.ylabel('Eigenvalue')\n",
    "plt.show()"
   ]
  },
  {
   "cell_type": "code",
   "execution_count": 10,
   "id": "cf6ad538",
   "metadata": {},
   "outputs": [
    {
     "name": "stdout",
     "output_type": "stream",
     "text": [
      "Number of factors selected by Kaiser criterion: 6\n",
      "Number of factors selected by elbow criterion: 1\n",
      "Number of factors to account for at least 90% variance: 15\n"
     ]
    }
   ],
   "source": [
    "threshold = 1\n",
    "print('Number of factors selected by Kaiser criterion:', np.count_nonzero(eigVals > threshold))\n",
    "\n",
    "# 2) The \"elbow\" criterion: Pick only factors left of the biggest/sharpest\n",
    "# drop. Here, this would yield 1 factor.\n",
    "print('Number of factors selected by elbow criterion: 1')\n",
    "\n",
    "# 3) Number of factors that account for 90% of the variance (Eigenvalues that \n",
    "# add up to 90% of the Eigensum. To account for at least 90% of the variability \n",
    "# in this data, we need 3 factors.\n",
    "threshold = 90\n",
    "eigSum = np.cumsum(covarExplained)\n",
    "print('Number of factors to account for at least 90% variance:', np.count_nonzero(eigSum < threshold) + 1)"
   ]
  },
  {
   "cell_type": "code",
   "execution_count": 11,
   "id": "4bd8bc45",
   "metadata": {},
   "outputs": [
    {
     "data": {
      "text/plain": [
       "(1030, 19)"
      ]
     },
     "execution_count": 11,
     "metadata": {},
     "output_type": "execute_result"
    }
   ],
   "source": [
    "rotatedData.shape "
   ]
  },
  {
   "cell_type": "code",
   "execution_count": 12,
   "id": "cf1fe558",
   "metadata": {},
   "outputs": [
    {
     "data": {
      "text/plain": [
       "(1030, 6)"
      ]
     },
     "execution_count": 12,
     "metadata": {},
     "output_type": "execute_result"
    }
   ],
   "source": [
    "pca_sensation = rotatedData[:,0:6] # keep first 6 PCAs\n",
    "pca_sensation.shape"
   ]
  },
  {
   "cell_type": "code",
   "execution_count": 13,
   "id": "abffeb74",
   "metadata": {},
   "outputs": [],
   "source": [
    "pca_sensation_names = ['PCA_S1','PCA_S2','PCA_S3','PCA_S4','PCA_S5','PCA_S6']"
   ]
  },
  {
   "cell_type": "code",
   "execution_count": 15,
   "id": "44256876",
   "metadata": {},
   "outputs": [
    {
     "data": {
      "image/png": "[encoded data removed]",
      "text/plain": [
       "<Figure size 432x288 with 1 Axes>"
      ]
     },
     "metadata": {
      "needs_background": "light"
     },
     "output_type": "display_data"
    },
    {
     "name": "stdout",
     "output_type": "stream",
     "text": [
      "1 ['I enjoy rollercoasters ']\n",
      "2 ['Have you ever bungee-jumped?']\n",
      "3 ['I enjoy impulse shopping']\n",
      "4 ['I sometimes go out on weeknights even if I have work to do']\n",
      "5 ['I enjoy doing things without too much planning ']\n",
      "6 ['Have you ever been rock climbing?']\n",
      "7 ['I enjoy being in large loud crowds like the Times Square Ball Drop on New Years Eve']\n",
      "8 ['I enjoy going to large music or dance festivals ']\n",
      "9 ['I enjoy watching horror movies']\n",
      "10 ['No risk - No fun']\n",
      "11 ['I like to be surprised even if it startles or scares me']\n",
      "12 ['Have you ever parachuted?']\n",
      "13 ['I enjoy haunted houses']\n",
      "14 ['I had a sheltered upbringing']\n",
      "15 ['My life is very stressful']\n",
      "16 ['I value my life to be well ordered and predictable']\n",
      "17 ['Have you ridden a motorcycle?']\n",
      "18 ['Have you gambled or bet for money?']\n",
      "19 ['Have you ever been sky-diving?']\n"
     ]
    }
   ],
   "source": [
    "whichPrincipalComponent = 1 # Select and look at once factor at a time \n",
    "plt.bar(x,loadings[whichPrincipalComponent,:]*-1) # note: eigVecs multiplied by -1\n",
    "plt.xlabel('Question')\n",
    "plt.ylabel('Loading')\n",
    "plt.show() # Show bar plot\n",
    "\n",
    "range_sensationSeeking = [i for i in range(401,420)]\n",
    "questions_sensationSeeking = pd.read_csv('movieReplicationSet-2.csv', usecols=range_sensationSeeking, header=None, nrows=1)\n",
    "index = 401\n",
    "counter = 1\n",
    "for each_question in questions_sensationSeeking:\n",
    "    print(counter, questions_sensationSeeking[index].values)\n",
    "    index+=1\n",
    "    counter += 1 # Display questions"
   ]
  },
  {
   "cell_type": "code",
   "execution_count": 20,
   "id": "53910220",
   "metadata": {},
   "outputs": [],
   "source": [
    "experience = clean_data.iloc[:,20:] # extract experience data"
   ]
  },
  {
   "cell_type": "code",
   "execution_count": 21,
   "id": "12aebd09",
   "metadata": {},
   "outputs": [
    {
     "name": "stdout",
     "output_type": "stream",
     "text": [
      "30.532\n",
      "20.343\n",
      "9.427\n",
      "8.892\n",
      "7.983\n",
      "6.768\n",
      "6.264\n",
      "5.172\n",
      "4.62\n"
     ]
    }
   ],
   "source": [
    "zscoredData = stats.zscore(experience) # conduct PCA on experience data\n",
    "pca = PCA().fit(zscoredData)\n",
    "eigVals = pca.explained_variance_\n",
    "loadings = pca.components_\n",
    "rotatedData2 = pca.fit_transform(zscoredData)\n",
    "covarExplained = eigVals/sum(eigVals)*100\n",
    "for ii in range(len(covarExplained)):\n",
    "    print(covarExplained[ii].round(3))"
   ]
  },
  {
   "cell_type": "code",
   "execution_count": 22,
   "id": "609f3ff6",
   "metadata": {},
   "outputs": [
    {
     "data": {
      "image/png": "[encoded data removed]",
      "text/plain": [
       "<Figure size 432x288 with 1 Axes>"
      ]
     },
     "metadata": {
      "needs_background": "light"
     },
     "output_type": "display_data"
    }
   ],
   "source": [
    "numClasses = 9 # 9 total experience columns\n",
    "x = np.linspace(1,numClasses,numClasses)\n",
    "plt.bar(x, eigVals, color='gray')\n",
    "plt.plot([0,numClasses],[1,1],color='orange') # Orange Kaiser criterion line for the fox\n",
    "plt.xlabel('Principal component')\n",
    "plt.ylabel('Eigenvalue')\n",
    "plt.show()"
   ]
  },
  {
   "cell_type": "code",
   "execution_count": 23,
   "id": "84486c57",
   "metadata": {},
   "outputs": [
    {
     "name": "stdout",
     "output_type": "stream",
     "text": [
      "Number of factors selected by Kaiser criterion: 2\n",
      "Number of factors selected by elbow criterion: 1\n",
      "Number of factors to account for at least 90% variance: 7\n"
     ]
    }
   ],
   "source": [
    "threshold = 1\n",
    "print('Number of factors selected by Kaiser criterion:', np.count_nonzero(eigVals > threshold))\n",
    "\n",
    "# 2) The \"elbow\" criterion: Pick only factors left of the biggest/sharpest\n",
    "# drop. Here, this would yield 1 factor.\n",
    "print('Number of factors selected by elbow criterion: 1')\n",
    "\n",
    "# 3) Number of factors that account for 90% of the variance (Eigenvalues that \n",
    "# add up to 90% of the Eigensum. To account for at least 90% of the variability \n",
    "# in this data, we need 3 factors.\n",
    "threshold = 90\n",
    "eigSum = np.cumsum(covarExplained)\n",
    "print('Number of factors to account for at least 90% variance:', np.count_nonzero(eigSum < threshold) + 1)"
   ]
  },
  {
   "cell_type": "code",
   "execution_count": 24,
   "id": "b22913db",
   "metadata": {},
   "outputs": [
    {
     "data": {
      "text/plain": [
       "(1030, 2)"
      ]
     },
     "execution_count": 24,
     "metadata": {},
     "output_type": "execute_result"
    }
   ],
   "source": [
    "pca_experience = rotatedData2[:,0:2] # we will use 2 PCAs for movie experience\n",
    "pca_experience.shape"
   ]
  },
  {
   "cell_type": "code",
   "execution_count": 25,
   "id": "a46859d2",
   "metadata": {},
   "outputs": [],
   "source": [
    "pca_experience_names = ['PCA_E1','PCA_E2'] # naming PCAs"
   ]
  },
  {
   "cell_type": "code",
   "execution_count": 27,
   "id": "875f867e",
   "metadata": {},
   "outputs": [
    {
     "data": {
      "image/png": "[encoded data removed]",
      "text/plain": [
       "<Figure size 432x288 with 1 Axes>"
      ]
     },
     "metadata": {
      "needs_background": "light"
     },
     "output_type": "display_data"
    }
   ],
   "source": [
    "whichPrincipalComponent = 2 # Select and look at once factor at a time \n",
    "plt.bar(x,loadings[whichPrincipalComponent,:]*-1) # note: eigVecs multiplied by -1\n",
    "plt.xlabel('Question')\n",
    "plt.ylabel('Loading')\n",
    "plt.show() # Show bar plot"
   ]
  },
  {
   "cell_type": "code",
   "execution_count": 28,
   "id": "84d6c022",
   "metadata": {},
   "outputs": [
    {
     "data": {
      "text/plain": [
       "array([[ 0.89617568, -1.16972181, -0.75985841, ...,  0.66275222,\n",
       "         1.13489227, -1.22392742],\n",
       "       [-0.49038412, -1.11979975, -1.40794499, ..., -0.24687728,\n",
       "        -0.92573656,  0.54250694],\n",
       "       [ 1.77248715, -0.80688141, -2.01665237, ..., -0.79634587,\n",
       "        -0.86966152,  0.05969991],\n",
       "       ...,\n",
       "       [ 1.32687761, -1.55741593, -1.29594542, ..., -1.47820717,\n",
       "         0.38470468,  0.62679294],\n",
       "       [-1.60900805,  1.57897416, -1.78741983, ...,  1.12733078,\n",
       "         1.21241619, -0.58451052],\n",
       "       [-0.11617131,  0.13342897, -1.70293144, ..., -1.98711846,\n",
       "         1.36191916, -0.40796526]])"
      ]
     },
     "execution_count": 28,
     "metadata": {},
     "output_type": "execute_result"
    }
   ],
   "source": [
    "allpca = np.concatenate([pca_experience, pca_sensation],axis=1) # move all PCAs together\n",
    "allpca"
   ]
  },
  {
   "cell_type": "code",
   "execution_count": 29,
   "id": "6e78f6a0",
   "metadata": {},
   "outputs": [
    {
     "data": {
      "text/plain": [
       "['PCA_E1',\n",
       " 'PCA_E2',\n",
       " 'PCA_S1',\n",
       " 'PCA_S2',\n",
       " 'PCA_S3',\n",
       " 'PCA_S4',\n",
       " 'PCA_S5',\n",
       " 'PCA_S6']"
      ]
     },
     "execution_count": 29,
     "metadata": {},
     "output_type": "execute_result"
    }
   ],
   "source": [
    "pca_names = pca_experience_names+pca_sensation_names\n",
    "pca_names"
   ]
  },
  {
   "cell_type": "code",
   "execution_count": 30,
   "id": "c8c4fc79",
   "metadata": {},
   "outputs": [
    {
     "data": {
      "text/plain": [
       "(1030, 8)"
      ]
     },
     "execution_count": 30,
     "metadata": {},
     "output_type": "execute_result"
    }
   ],
   "source": [
    "allpca.shape"
   ]
  },
  {
   "cell_type": "code",
   "execution_count": 31,
   "id": "1041e849",
   "metadata": {},
   "outputs": [
    {
     "data": {
      "text/html": [
       "<div>\n",
       "<style scoped>\n",
       "    .dataframe tbody tr th:only-of-type {\n",
       "        vertical-align: middle;\n",
       "    }\n",
       "\n",
       "    .dataframe tbody tr th {\n",
       "        vertical-align: top;\n",
       "    }\n",
       "\n",
       "    .dataframe thead th {\n",
       "        text-align: right;\n",
       "    }\n",
       "</style>\n",
       "<table border=\"1\" class=\"dataframe\">\n",
       "  <thead>\n",
       "    <tr style=\"text-align: right;\">\n",
       "      <th></th>\n",
       "      <th>PCA_E1</th>\n",
       "      <th>PCA_E2</th>\n",
       "      <th>PCA_S1</th>\n",
       "      <th>PCA_S2</th>\n",
       "      <th>PCA_S3</th>\n",
       "      <th>PCA_S4</th>\n",
       "      <th>PCA_S5</th>\n",
       "      <th>PCA_S6</th>\n",
       "    </tr>\n",
       "  </thead>\n",
       "  <tbody>\n",
       "    <tr>\n",
       "      <th>0</th>\n",
       "      <td>0.896176</td>\n",
       "      <td>-1.169722</td>\n",
       "      <td>-0.759858</td>\n",
       "      <td>0.099096</td>\n",
       "      <td>0.273555</td>\n",
       "      <td>0.662752</td>\n",
       "      <td>1.134892</td>\n",
       "      <td>-1.223927</td>\n",
       "    </tr>\n",
       "    <tr>\n",
       "      <th>1</th>\n",
       "      <td>-0.490384</td>\n",
       "      <td>-1.119800</td>\n",
       "      <td>-1.407945</td>\n",
       "      <td>-0.109071</td>\n",
       "      <td>0.287785</td>\n",
       "      <td>-0.246877</td>\n",
       "      <td>-0.925737</td>\n",
       "      <td>0.542507</td>\n",
       "    </tr>\n",
       "    <tr>\n",
       "      <th>2</th>\n",
       "      <td>1.772487</td>\n",
       "      <td>-0.806881</td>\n",
       "      <td>-2.016652</td>\n",
       "      <td>1.011995</td>\n",
       "      <td>1.072385</td>\n",
       "      <td>-0.796346</td>\n",
       "      <td>-0.869662</td>\n",
       "      <td>0.059700</td>\n",
       "    </tr>\n",
       "    <tr>\n",
       "      <th>3</th>\n",
       "      <td>-1.846980</td>\n",
       "      <td>-1.627252</td>\n",
       "      <td>-0.038785</td>\n",
       "      <td>-1.102202</td>\n",
       "      <td>-0.809451</td>\n",
       "      <td>-1.614211</td>\n",
       "      <td>-1.008100</td>\n",
       "      <td>-2.102823</td>\n",
       "    </tr>\n",
       "    <tr>\n",
       "      <th>4</th>\n",
       "      <td>1.405430</td>\n",
       "      <td>-0.122564</td>\n",
       "      <td>0.357928</td>\n",
       "      <td>0.666125</td>\n",
       "      <td>1.216825</td>\n",
       "      <td>2.355060</td>\n",
       "      <td>0.796106</td>\n",
       "      <td>0.285028</td>\n",
       "    </tr>\n",
       "    <tr>\n",
       "      <th>...</th>\n",
       "      <td>...</td>\n",
       "      <td>...</td>\n",
       "      <td>...</td>\n",
       "      <td>...</td>\n",
       "      <td>...</td>\n",
       "      <td>...</td>\n",
       "      <td>...</td>\n",
       "      <td>...</td>\n",
       "    </tr>\n",
       "    <tr>\n",
       "      <th>1025</th>\n",
       "      <td>1.918303</td>\n",
       "      <td>0.433735</td>\n",
       "      <td>-0.967327</td>\n",
       "      <td>0.855936</td>\n",
       "      <td>0.945134</td>\n",
       "      <td>-1.928743</td>\n",
       "      <td>-0.546636</td>\n",
       "      <td>-1.246746</td>\n",
       "    </tr>\n",
       "    <tr>\n",
       "      <th>1026</th>\n",
       "      <td>3.762664</td>\n",
       "      <td>1.839937</td>\n",
       "      <td>1.413407</td>\n",
       "      <td>-0.284559</td>\n",
       "      <td>-0.324725</td>\n",
       "      <td>-2.875672</td>\n",
       "      <td>-1.573248</td>\n",
       "      <td>0.132909</td>\n",
       "    </tr>\n",
       "    <tr>\n",
       "      <th>1027</th>\n",
       "      <td>1.326878</td>\n",
       "      <td>-1.557416</td>\n",
       "      <td>-1.295945</td>\n",
       "      <td>2.172044</td>\n",
       "      <td>0.851558</td>\n",
       "      <td>-1.478207</td>\n",
       "      <td>0.384705</td>\n",
       "      <td>0.626793</td>\n",
       "    </tr>\n",
       "    <tr>\n",
       "      <th>1028</th>\n",
       "      <td>-1.609008</td>\n",
       "      <td>1.578974</td>\n",
       "      <td>-1.787420</td>\n",
       "      <td>-0.864765</td>\n",
       "      <td>0.390251</td>\n",
       "      <td>1.127331</td>\n",
       "      <td>1.212416</td>\n",
       "      <td>-0.584511</td>\n",
       "    </tr>\n",
       "    <tr>\n",
       "      <th>1029</th>\n",
       "      <td>-0.116171</td>\n",
       "      <td>0.133429</td>\n",
       "      <td>-1.702931</td>\n",
       "      <td>-1.232651</td>\n",
       "      <td>0.778932</td>\n",
       "      <td>-1.987118</td>\n",
       "      <td>1.361919</td>\n",
       "      <td>-0.407965</td>\n",
       "    </tr>\n",
       "  </tbody>\n",
       "</table>\n",
       "<p>1030 rows × 8 columns</p>\n",
       "</div>"
      ],
      "text/plain": [
       "        PCA_E1    PCA_E2    PCA_S1    PCA_S2    PCA_S3    PCA_S4    PCA_S5  \\\n",
       "0     0.896176 -1.169722 -0.759858  0.099096  0.273555  0.662752  1.134892   \n",
       "1    -0.490384 -1.119800 -1.407945 -0.109071  0.287785 -0.246877 -0.925737   \n",
       "2     1.772487 -0.806881 -2.016652  1.011995  1.072385 -0.796346 -0.869662   \n",
       "3    -1.846980 -1.627252 -0.038785 -1.102202 -0.809451 -1.614211 -1.008100   \n",
       "4     1.405430 -0.122564  0.357928  0.666125  1.216825  2.355060  0.796106   \n",
       "...        ...       ...       ...       ...       ...       ...       ...   \n",
       "1025  1.918303  0.433735 -0.967327  0.855936  0.945134 -1.928743 -0.546636   \n",
       "1026  3.762664  1.839937  1.413407 -0.284559 -0.324725 -2.875672 -1.573248   \n",
       "1027  1.326878 -1.557416 -1.295945  2.172044  0.851558 -1.478207  0.384705   \n",
       "1028 -1.609008  1.578974 -1.787420 -0.864765  0.390251  1.127331  1.212416   \n",
       "1029 -0.116171  0.133429 -1.702931 -1.232651  0.778932 -1.987118  1.361919   \n",
       "\n",
       "        PCA_S6  \n",
       "0    -1.223927  \n",
       "1     0.542507  \n",
       "2     0.059700  \n",
       "3    -2.102823  \n",
       "4     0.285028  \n",
       "...        ...  \n",
       "1025 -1.246746  \n",
       "1026  0.132909  \n",
       "1027  0.626793  \n",
       "1028 -0.584511  \n",
       "1029 -0.407965  \n",
       "\n",
       "[1030 rows x 8 columns]"
      ]
     },
     "execution_count": 31,
     "metadata": {},
     "output_type": "execute_result"
    }
   ],
   "source": [
    "combined = pd.DataFrame(allpca, columns=pca_names)\n",
    "combined"
   ]
  },
  {
   "cell_type": "code",
   "execution_count": 32,
   "id": "f5061b60",
   "metadata": {},
   "outputs": [
    {
     "data": {
      "text/html": [
       "<div>\n",
       "<style scoped>\n",
       "    .dataframe tbody tr th:only-of-type {\n",
       "        vertical-align: middle;\n",
       "    }\n",
       "\n",
       "    .dataframe tbody tr th {\n",
       "        vertical-align: top;\n",
       "    }\n",
       "\n",
       "    .dataframe thead th {\n",
       "        text-align: right;\n",
       "    }\n",
       "</style>\n",
       "<table border=\"1\" class=\"dataframe\">\n",
       "  <thead>\n",
       "    <tr style=\"text-align: right;\">\n",
       "      <th></th>\n",
       "      <th>PCA_E1</th>\n",
       "      <th>PCA_E2</th>\n",
       "      <th>PCA_S1</th>\n",
       "      <th>PCA_S2</th>\n",
       "      <th>PCA_S3</th>\n",
       "      <th>PCA_S4</th>\n",
       "      <th>PCA_S5</th>\n",
       "      <th>PCA_S6</th>\n",
       "    </tr>\n",
       "  </thead>\n",
       "  <tbody>\n",
       "    <tr>\n",
       "      <th>PCA_E1</th>\n",
       "      <td>1.000000e+00</td>\n",
       "      <td>-2.325232e-17</td>\n",
       "      <td>2.151307e-02</td>\n",
       "      <td>-1.337539e-01</td>\n",
       "      <td>8.074612e-02</td>\n",
       "      <td>-1.301286e-01</td>\n",
       "      <td>-8.188755e-02</td>\n",
       "      <td>-1.147803e-02</td>\n",
       "    </tr>\n",
       "    <tr>\n",
       "      <th>PCA_E2</th>\n",
       "      <td>-2.325232e-17</td>\n",
       "      <td>1.000000e+00</td>\n",
       "      <td>-4.688813e-02</td>\n",
       "      <td>4.620083e-02</td>\n",
       "      <td>3.717444e-02</td>\n",
       "      <td>1.352250e-02</td>\n",
       "      <td>8.961390e-02</td>\n",
       "      <td>-3.792836e-02</td>\n",
       "    </tr>\n",
       "    <tr>\n",
       "      <th>PCA_S1</th>\n",
       "      <td>2.151307e-02</td>\n",
       "      <td>-4.688813e-02</td>\n",
       "      <td>1.000000e+00</td>\n",
       "      <td>2.874801e-16</td>\n",
       "      <td>1.824816e-16</td>\n",
       "      <td>1.236777e-16</td>\n",
       "      <td>7.487343e-17</td>\n",
       "      <td>1.582341e-17</td>\n",
       "    </tr>\n",
       "    <tr>\n",
       "      <th>PCA_S2</th>\n",
       "      <td>-1.337539e-01</td>\n",
       "      <td>4.620083e-02</td>\n",
       "      <td>2.874801e-16</td>\n",
       "      <td>1.000000e+00</td>\n",
       "      <td>-9.275044e-17</td>\n",
       "      <td>-1.301787e-16</td>\n",
       "      <td>-5.482840e-17</td>\n",
       "      <td>1.609223e-16</td>\n",
       "    </tr>\n",
       "    <tr>\n",
       "      <th>PCA_S3</th>\n",
       "      <td>8.074612e-02</td>\n",
       "      <td>3.717444e-02</td>\n",
       "      <td>1.824816e-16</td>\n",
       "      <td>-9.275044e-17</td>\n",
       "      <td>1.000000e+00</td>\n",
       "      <td>3.634611e-16</td>\n",
       "      <td>-3.026321e-16</td>\n",
       "      <td>5.193663e-16</td>\n",
       "    </tr>\n",
       "    <tr>\n",
       "      <th>PCA_S4</th>\n",
       "      <td>-1.301286e-01</td>\n",
       "      <td>1.352250e-02</td>\n",
       "      <td>1.236777e-16</td>\n",
       "      <td>-1.301787e-16</td>\n",
       "      <td>3.634611e-16</td>\n",
       "      <td>1.000000e+00</td>\n",
       "      <td>-2.130056e-16</td>\n",
       "      <td>-2.157302e-16</td>\n",
       "    </tr>\n",
       "    <tr>\n",
       "      <th>PCA_S5</th>\n",
       "      <td>-8.188755e-02</td>\n",
       "      <td>8.961390e-02</td>\n",
       "      <td>7.487343e-17</td>\n",
       "      <td>-5.482840e-17</td>\n",
       "      <td>-3.026321e-16</td>\n",
       "      <td>-2.130056e-16</td>\n",
       "      <td>1.000000e+00</td>\n",
       "      <td>-2.104715e-16</td>\n",
       "    </tr>\n",
       "    <tr>\n",
       "      <th>PCA_S6</th>\n",
       "      <td>-1.147803e-02</td>\n",
       "      <td>-3.792836e-02</td>\n",
       "      <td>1.582341e-17</td>\n",
       "      <td>1.609223e-16</td>\n",
       "      <td>5.193663e-16</td>\n",
       "      <td>-2.157302e-16</td>\n",
       "      <td>-2.104715e-16</td>\n",
       "      <td>1.000000e+00</td>\n",
       "    </tr>\n",
       "  </tbody>\n",
       "</table>\n",
       "</div>"
      ],
      "text/plain": [
       "              PCA_E1        PCA_E2        PCA_S1        PCA_S2        PCA_S3  \\\n",
       "PCA_E1  1.000000e+00 -2.325232e-17  2.151307e-02 -1.337539e-01  8.074612e-02   \n",
       "PCA_E2 -2.325232e-17  1.000000e+00 -4.688813e-02  4.620083e-02  3.717444e-02   \n",
       "PCA_S1  2.151307e-02 -4.688813e-02  1.000000e+00  2.874801e-16  1.824816e-16   \n",
       "PCA_S2 -1.337539e-01  4.620083e-02  2.874801e-16  1.000000e+00 -9.275044e-17   \n",
       "PCA_S3  8.074612e-02  3.717444e-02  1.824816e-16 -9.275044e-17  1.000000e+00   \n",
       "PCA_S4 -1.301286e-01  1.352250e-02  1.236777e-16 -1.301787e-16  3.634611e-16   \n",
       "PCA_S5 -8.188755e-02  8.961390e-02  7.487343e-17 -5.482840e-17 -3.026321e-16   \n",
       "PCA_S6 -1.147803e-02 -3.792836e-02  1.582341e-17  1.609223e-16  5.193663e-16   \n",
       "\n",
       "              PCA_S4        PCA_S5        PCA_S6  \n",
       "PCA_E1 -1.301286e-01 -8.188755e-02 -1.147803e-02  \n",
       "PCA_E2  1.352250e-02  8.961390e-02 -3.792836e-02  \n",
       "PCA_S1  1.236777e-16  7.487343e-17  1.582341e-17  \n",
       "PCA_S2 -1.301787e-16 -5.482840e-17  1.609223e-16  \n",
       "PCA_S3  3.634611e-16 -3.026321e-16  5.193663e-16  \n",
       "PCA_S4  1.000000e+00 -2.130056e-16 -2.157302e-16  \n",
       "PCA_S5 -2.130056e-16  1.000000e+00 -2.104715e-16  \n",
       "PCA_S6 -2.157302e-16 -2.104715e-16  1.000000e+00  "
      ]
     },
     "execution_count": 32,
     "metadata": {},
     "output_type": "execute_result"
    }
   ],
   "source": [
    "correlationMatrix = combined.corr() # correlation matrix\n",
    "correlationMatrix"
   ]
  },
  {
   "cell_type": "code",
   "execution_count": 33,
   "id": "b9bdecb0",
   "metadata": {},
   "outputs": [
    {
     "data": {
      "text/plain": [
       "<AxesSubplot:>"
      ]
     },
     "execution_count": 33,
     "metadata": {},
     "output_type": "execute_result"
    },
    {
     "data": {
      "image/png": "[encoded data removed]",
      "text/plain": [
       "<Figure size 432x288 with 2 Axes>"
      ]
     },
     "metadata": {
      "needs_background": "light"
     },
     "output_type": "display_data"
    }
   ],
   "source": [
    "import seaborn as sns\n",
    "sns.heatmap(correlationMatrix) # heatmap of correlation matrix"
   ]
  },
  {
   "cell_type": "code",
   "execution_count": 34,
   "id": "5cedfca9",
   "metadata": {},
   "outputs": [
    {
     "data": {
      "image/png": "[encoded data removed]",
      "text/plain": [
       "<Figure size 432x288 with 2 Axes>"
      ]
     },
     "metadata": {
      "needs_background": "light"
     },
     "output_type": "display_data"
    }
   ],
   "source": [
    "r = np.corrcoef(combined,rowvar=False)\n",
    "plt.imshow(r) \n",
    "plt.colorbar()\n",
    "plt.show()"
   ]
  },
  {
   "cell_type": "code",
   "execution_count": 31,
   "id": "6584b36d",
   "metadata": {},
   "outputs": [
    {
     "data": {
      "text/plain": [
       "(0.021513071097718967, 0.49039945696212983)"
      ]
     },
     "execution_count": 31,
     "metadata": {},
     "output_type": "execute_result"
    }
   ],
   "source": [
    "from scipy import stats\n",
    "stats.pearsonr(combined['PCA_S1'].values, combined['PCA_E1'].values)"
   ]
  }
 ],
 "metadata": {
  "kernelspec": {
   "display_name": "Python 3 (ipykernel)",
   "language": "python",
   "name": "python3"
  },
  "language_info": {
   "codemirror_mode": {
    "name": "ipython",
    "version": 3
   },
   "file_extension": ".py",
   "mimetype": "text/x-python",
   "name": "python",
   "nbconvert_exporter": "python",
   "pygments_lexer": "ipython3",
   "version": "3.8.5"
  }
 },
 "nbformat": 4,
 "nbformat_minor": 5
}
