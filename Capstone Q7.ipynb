{
 "cells": [
  {
   "cell_type": "code",
   "execution_count": 1,
   "id": "4403060c",
   "metadata": {},
   "outputs": [],
   "source": [
    "import pandas as pd"
   ]
  },
  {
   "cell_type": "code",
   "execution_count": 2,
   "id": "d3684d5e",
   "metadata": {},
   "outputs": [
    {
     "data": {
      "text/plain": [
       "0.30718386861198965"
      ]
     },
     "execution_count": 2,
     "metadata": {},
     "output_type": "execute_result"
    }
   ],
   "source": [
    "import pandas as pd\n",
    "movies = [i for i in range(0,401)]\n",
    "df = pd.read_csv(r'movieReplicationSet-2.csv', usecols=movies)\n",
    "starWars1 = df['Star Wars: Episode 1 - The Phantom Menace (1999)']\n",
    "starWars2 = df['Star Wars: Episode II - Attack of the Clones (2002)']\n",
    "starWars4 = df['Star Wars: Episode IV - A New Hope (1977)']\n",
    "starWars5 = df['Star Wars: Episode V - The Empire Strikes Back (1980)']\n",
    "starWars6 = df['Star Wars: Episode VI - The Return of the Jedi (1983)']\n",
    "starWars7 = df['Star Wars: Episode VII - The Force Awakens (2015)']\n",
    "frames = [starWars1, starWars2, starWars4, starWars5, starWars6, starWars7]\n",
    "\n",
    "allstarWars = pd.concat(frames,axis=1)\n",
    "allstarWars_means = allstarWars.mean()\n",
    "\n",
    "allstarWars_means.std()"
   ]
  },
  {
   "cell_type": "code",
   "execution_count": null,
   "id": "40662c41",
   "metadata": {},
   "outputs": [],
   "source": []
  },
  {
   "cell_type": "code",
   "execution_count": 3,
   "id": "ed2b40e2",
   "metadata": {},
   "outputs": [
    {
     "data": {
      "text/plain": [
       "0.025650523078341834"
      ]
     },
     "execution_count": 3,
     "metadata": {},
     "output_type": "execute_result"
    }
   ],
   "source": [
    "harryPotter1 = df[\"Harry Potter and the Sorcerer's Stone (2001)\"]\n",
    "harryPotter2 = df['Harry Potter and the Chamber of Secrets (2002)']\n",
    "harryPotter3 = df['Harry Potter and the Deathly Hallows: Part 2 (2011)']\n",
    "harryPotter4 = df['Harry Potter and the Goblet of Fire (2005)']\n",
    "frames2 = [harryPotter1, harryPotter2, harryPotter3, harryPotter4]\n",
    "\n",
    "allharryPotter = pd.concat(frames2,axis=1)\n",
    "allharryPotter_means = allharryPotter.mean()\n",
    "allharryPotter_means.std()"
   ]
  },
  {
   "cell_type": "code",
   "execution_count": null,
   "id": "35cb55c3",
   "metadata": {},
   "outputs": [],
   "source": []
  },
  {
   "cell_type": "code",
   "execution_count": 4,
   "id": "b8308355",
   "metadata": {},
   "outputs": [
    {
     "data": {
      "text/plain": [
       "0.22986294875554825"
      ]
     },
     "execution_count": 4,
     "metadata": {},
     "output_type": "execute_result"
    }
   ],
   "source": [
    "matrix1 = df[\"The Matrix Revolutions (2003)\"]\n",
    "matrix2 = df['The Matrix (1999)']\n",
    "matrix3 = df['The Matrix Reloaded (2003)']\n",
    "frames3 = [matrix1, matrix2, matrix3]\n",
    "\n",
    "allmatrices = pd.concat(frames3,axis=1)\n",
    "allmatrices_means = allmatrices.mean()\n",
    "allmatrices_means.std()"
   ]
  },
  {
   "cell_type": "code",
   "execution_count": null,
   "id": "0d495ce5",
   "metadata": {},
   "outputs": [],
   "source": []
  },
  {
   "cell_type": "code",
   "execution_count": 5,
   "id": "9217a1e4",
   "metadata": {},
   "outputs": [
    {
     "data": {
      "text/plain": [
       "0.17922497009989982"
      ]
     },
     "execution_count": 5,
     "metadata": {},
     "output_type": "execute_result"
    }
   ],
   "source": [
    "jones1 = df['Raiders of the Lost Ark (1981)']\n",
    "jones2 = df['Indiana Jones and the Temple of Doom (1984)']\n",
    "jones3 = df['Indiana Jones and the Last Crusade (1989)']\n",
    "jones4 = df['Indiana Jones and the Kingdom of the Crystal Skull (2008)']\n",
    "\n",
    "frames4 = [jones1,jones2,jones3,jones4]\n",
    "\n",
    "alljones = pd.concat(frames4,axis=1)\n",
    "alljones_means = alljones.mean()\n",
    "alljones_means.std()\n"
   ]
  },
  {
   "cell_type": "code",
   "execution_count": null,
   "id": "108da85b",
   "metadata": {},
   "outputs": [],
   "source": []
  },
  {
   "cell_type": "code",
   "execution_count": 6,
   "id": "47f2e379",
   "metadata": {},
   "outputs": [
    {
     "data": {
      "text/plain": [
       "0.18209828742120102"
      ]
     },
     "execution_count": 6,
     "metadata": {},
     "output_type": "execute_result"
    }
   ],
   "source": [
    "jurassic1 = df['Jurassic Park (1993)']\n",
    "jurassic2 = df['The Lost World: Jurassic Park (1997)']\n",
    "jurassic3 = df['Jurassic Park III (2001)']\n",
    "\n",
    "frames5 = [jurassic1,jurassic2,jurassic3]\n",
    "\n",
    "alljurassic = pd.concat(frames5,axis=1)\n",
    "alljurassic_means = alljurassic.mean()\n",
    "alljurassic_means.std()\n",
    "\n",
    "   "
   ]
  },
  {
   "cell_type": "code",
   "execution_count": null,
   "id": "5ef841b5",
   "metadata": {},
   "outputs": [],
   "source": []
  },
  {
   "cell_type": "code",
   "execution_count": 7,
   "id": "0d2ae59f",
   "metadata": {},
   "outputs": [
    {
     "data": {
      "text/plain": [
       "0.11053562630949239"
      ]
     },
     "execution_count": 7,
     "metadata": {},
     "output_type": "execute_result"
    }
   ],
   "source": [
    "pirates1 = df['Pirates of the Caribbean: The Curse of the Black Pearl (2003)']\n",
    "pirates2 = df[\"Pirates of the Caribbean: Dead Man's Chest (2006)\"]\n",
    "pirates3 = df[\"Pirates of the Caribbean: At World's End (2007)\"]\n",
    "\n",
    "frames6 = [pirates1,pirates2,pirates3]\n",
    "\n",
    "allpirates = pd.concat(frames6,axis=1)\n",
    "allpirates_means = allpirates.mean()\n",
    "allpirates_means.std()\n",
    "    "
   ]
  },
  {
   "cell_type": "code",
   "execution_count": null,
   "id": "95175710",
   "metadata": {},
   "outputs": [],
   "source": []
  },
  {
   "cell_type": "code",
   "execution_count": 8,
   "id": "4f49ebd4",
   "metadata": {},
   "outputs": [
    {
     "data": {
      "text/plain": [
       "0.07837384226767927"
      ]
     },
     "execution_count": 8,
     "metadata": {},
     "output_type": "execute_result"
    }
   ],
   "source": [
    "toy1 = df['Toy Story (1995)']\n",
    "toy2 = df[\"Toy Story 2 (1999)\"]\n",
    "toy3 = df[\"Toy Story 3 (2010)\"]\n",
    "\n",
    "frames7 = [toy1,toy2,toy3]\n",
    "\n",
    "alltoys = pd.concat(frames7,axis=1)\n",
    "alltoys_means = alltoys.mean()\n",
    "alltoys_means.std()\n",
    "\n"
   ]
  },
  {
   "cell_type": "code",
   "execution_count": null,
   "id": "b2032236",
   "metadata": {},
   "outputs": [],
   "source": []
  },
  {
   "cell_type": "code",
   "execution_count": 11,
   "id": "c6c144f5",
   "metadata": {},
   "outputs": [
    {
     "data": {
      "text/plain": [
       "0.4516434914068378"
      ]
     },
     "execution_count": 11,
     "metadata": {},
     "output_type": "execute_result"
    }
   ],
   "source": [
    "batman1 = df['Batman (1989)']\n",
    "batman2 = df[\"Batman & Robin (1997)\"]\n",
    "batman3 = df[\"The Dark Knight (2008)\"]\n",
    "\n",
    "frames8 = [batman1,batman2,batman3]\n",
    "\n",
    "allbatman = pd.concat(frames8,axis=1)\n",
    "allbatman_means = allbatman.mean()\n",
    "allbatman_means.std()\n",
    "\n",
    "\n"
   ]
  },
  {
   "cell_type": "code",
   "execution_count": null,
   "id": "f24a0eac",
   "metadata": {},
   "outputs": [],
   "source": []
  },
  {
   "cell_type": "code",
   "execution_count": 20,
   "id": "58b5c9e7",
   "metadata": {},
   "outputs": [
    {
     "data": {
      "image/png": "[encoded data removed]",
      "text/plain": [
       "<Figure size 432x288 with 1 Axes>"
      ]
     },
     "metadata": {
      "needs_background": "light"
     },
     "output_type": "display_data"
    }
   ],
   "source": [
    "import matplotlib.pyplot as plt\n",
    "fig = plt.figure()\n",
    "ax = fig.add_axes([0,0,2,1])\n",
    "movies = ['Batman', 'Star Wars', 'Matrix', 'Jurassic Park', 'Indiana Jones','Pirates of Caribbean', 'Toy Story', 'Harry Potter']\n",
    "stds = [allbatman_means.std(), allstarWars_means.std(), allmatrices_means.std(),alljurassic_means.std(),alljones_means.std(),allpirates_means.std(),alltoys_means.std(), allharryPotter_means.std()]\n",
    "ax.bar(movies,stds,color='green')\n",
    "ax.set_ylabel('Standard Deviation of Mean Rating Across Each Franchise')\n",
    "ax.set_title('Inconsistent Quality Experienced by Viewers')\n",
    "ax.set_xlabel('Movie Franchise')\n",
    "plt.show()"
   ]
  },
  {
   "cell_type": "code",
   "execution_count": null,
   "id": "5f7325e8",
   "metadata": {},
   "outputs": [],
   "source": []
  }
 ],
 "metadata": {
  "kernelspec": {
   "display_name": "Python 3 (ipykernel)",
   "language": "python",
   "name": "python3"
  },
  "language_info": {
   "codemirror_mode": {
    "name": "ipython",
    "version": 3
   },
   "file_extension": ".py",
   "mimetype": "text/x-python",
   "name": "python",
   "nbconvert_exporter": "python",
   "pygments_lexer": "ipython3",
   "version": "3.8.5"
  }
 },
 "nbformat": 4,
 "nbformat_minor": 5
}
